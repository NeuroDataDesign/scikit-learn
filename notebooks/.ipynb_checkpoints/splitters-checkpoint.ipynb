{
 "cells": [
  {
   "cell_type": "code",
   "execution_count": 3,
   "metadata": {},
   "outputs": [],
   "source": [
    "\"\"\"\n",
    "===============================================================================\n",
    "Comparing different split criteria for random forest regression on toy datasets\n",
    "===============================================================================\n",
    "\n",
    "An example to compare the different split criteria available for\n",
    ":class:`sklearn.ensemble.RandomForestRegressor`.\n",
    "\n",
    "Metrics used to evaluate these splitters include Mean Squared Error (MSE), a\n",
    "measure of distance between the true target (`y_true`) and the predicted output\n",
    "(`y_pred`), and runtime.\n",
    "\n",
    "For visual examples of these datasets, see\n",
    ":ref:`sphx_glr_auto_examples_datasets_plot_nonlinear_regression_datasets.py`.\n",
    "\"\"\"\n",
    "\n",
    "# Author: Vivek Gopalakrishnan <vgopala4@jhu.edu>\n",
    "# License: BSD 3 clause\n",
    "\n",
    "import matplotlib.pyplot as plt\n",
    "import pandas as pd\n",
    "import seaborn as sns"
   ]
  },
  {
   "cell_type": "code",
   "execution_count": null,
   "metadata": {},
   "outputs": [],
   "source": [
    "# Running of the simulation is not done in notebook because it relies on \n",
    "# the `multiprocessing` module. This works fine as an example, however,\n",
    "# because that is a pure Python file.\n",
    "\n",
    "# Below are the simulation results."
   ]
  },
  {
   "cell_type": "code",
   "execution_count": null,
   "metadata": {},
   "outputs": [],
   "source": [
    "df = pd.read_csv(\"results.csv\")"
   ]
  },
  {
   "cell_type": "code",
   "execution_count": null,
   "metadata": {},
   "outputs": [],
   "source": [
    "sns.relplot(x=\"n_samples\",\n",
    "            y=\"mse\",\n",
    "            hue=\"criterion\",\n",
    "            col=\"simulation\",\n",
    "            kind=\"line\",\n",
    "            data=df,\n",
    "            facet_kws={'sharey': False, 'sharex': True})\n",
    "plt.show()"
   ]
  }
 ],
 "metadata": {
  "kernelspec": {
   "display_name": "Python [conda env:sklearn-dev]",
   "language": "python",
   "name": "conda-env-sklearn-dev-py"
  },
  "language_info": {
   "codemirror_mode": {
    "name": "ipython",
    "version": 3
   },
   "file_extension": ".py",
   "mimetype": "text/x-python",
   "name": "python",
   "nbconvert_exporter": "python",
   "pygments_lexer": "ipython3",
   "version": "3.7.3"
  }
 },
 "nbformat": 4,
 "nbformat_minor": 4
}
