{
 "cells": [
  {
   "cell_type": "markdown",
   "metadata": {},
   "source": [
    "Demonstration of randomized search to compare classifier performance\n",
    "============================================================================\n",
    "An important step in classifier performance comparison is hyperparameter \n",
    "optimization. Here, we specify the classifer models we want to tune and a \n",
    "dictionary of hyperparameter ranges (preferably similar for fairness in \n",
    "comparision) for each classifier. Then, we find the optimal hyperparameters \n",
    "through a function that uses RandomizedSearchCV and refit the optimized \n",
    "models to obtain accuracies. We can see clearly in the plot that the \n",
    "optimized models perform better than the default parameter models. On the \n",
    "dataset we use in this example, car dataset from OpenML-CC18, SPORF also \n",
    "performs better than RF overall. \n"
   ]
  },
  {
   "cell_type": "code",
   "execution_count": 1,
   "metadata": {},
   "outputs": [
    {
     "name": "stdout",
     "output_type": "stream",
     "text": [
      "Automatically created module for IPython interactive environment\n"
     ]
    }
   ],
   "source": [
    "print(__doc__)\n",
    "\n",
    "from myconfig import api_key\n",
    "from sklearn.model_selection import RandomizedSearchCV\n",
    "from sklearn.model_selection import GridSearchCV\n",
    "\n",
    "import numpy as np\n",
    "import math\n",
    "from rerf.rerfClassifier import rerfClassifier\n",
    "from sklearn.ensemble import RandomForestClassifier\n",
    "import openml\n",
    "from sklearn.model_selection import train_test_split\n",
    "from sklearn import metrics\n",
    "from warnings import simplefilter\n",
    "\n",
    "simplefilter(action=\"ignore\", category=FutureWarning)\n",
    "from warnings import simplefilter\n",
    "\n",
    "simplefilter(action=\"ignore\", category=FutureWarning)\n",
    "\n",
    "import matplotlib\n",
    "import matplotlib.pyplot as plt\n",
    "import numpy as np"
   ]
  },
  {
   "cell_type": "code",
   "execution_count": 2,
   "metadata": {},
   "outputs": [],
   "source": [
    "def hyperparameter_optimization_random(X, y, *argv):\n",
    "    \"\"\"\n",
    "    Given a classifier and a dictionary of hyperparameters, find optimal hyperparameters using RandomizedSearchCV.\n",
    "\n",
    "    Parameters\n",
    "    ----------\n",
    "    X : numpy.ndarray\n",
    "        Input data, shape (n_samples, n_features)\n",
    "    y : numpy.ndarray\n",
    "        Output data, shape (n_samples, n_outputs)\n",
    "    *argv : list of tuples (classifier, hyperparameters)\n",
    "        List of (classifier, hyperparameters) tuples:\n",
    "\n",
    "        classifier : sklearn-compliant classifier\n",
    "            For example sklearn.ensemble.RandomForestRegressor, rerf.rerfClassifier, etc\n",
    "        hyperparameters : dictionary of hyperparameter ranges\n",
    "            See https://scikit-learn.org/stable/modules/generated/sklearn.model_selection.RandomizedSearchCV.html.\n",
    "\n",
    "    Returns\n",
    "    -------\n",
    "    clf_best_params : dictionary\n",
    "        Dictionary of best hyperparameters\n",
    "    \"\"\"\n",
    "\n",
    "    clf_best_params = {}\n",
    "\n",
    "    # Iterate over all (classifier, hyperparameters) pairs\n",
    "    for clf, params in argv:\n",
    "\n",
    "        # Run randomized search\n",
    "        n_iter_search = 10\n",
    "        random_search = RandomizedSearchCV(\n",
    "            clf, param_distributions=params, n_iter=n_iter_search, cv=10, iid=False\n",
    "        )\n",
    "        random_search.fit(X, y)\n",
    "\n",
    "        # Save results\n",
    "        clf_best_params[clf] = random_search.best_params_\n",
    "\n",
    "    return clf_best_params"
   ]
  },
  {
   "cell_type": "markdown",
   "metadata": {},
   "source": [
    "# Building classifiers and specifying parameter ranges to sample from\n"
   ]
  },
  {
   "cell_type": "code",
   "execution_count": 3,
   "metadata": {},
   "outputs": [],
   "source": [
    "# get some data\n",
    "task_id = 146821  # car\n",
    "openml.config.apikey = api_key\n",
    "benchmark_suite = openml.study.get_suite(\"OpenML-CC18\")\n",
    "task = openml.tasks.get_task(task_id)\n",
    "X, y = task.get_X_and_y()\n",
    "n_features = np.shape(X)[1]\n",
    "n_samples = np.shape(X)[0]\n",
    "\n",
    "# build a classifier\n",
    "rerf = rerfClassifier()\n",
    "\n",
    "# specify max_depth and min_sample_splits ranges\n",
    "max_depth_array_rerf = (np.unique(np.round((np.linspace(2, n_samples, 10))))).astype(\n",
    "    int\n",
    ")\n",
    "max_depth_range_rerf = np.append(max_depth_array_rerf, None)\n",
    "\n",
    "min_sample_splits_range_rerf = (\n",
    "    np.unique(\n",
    "        np.round((np.arange(1, math.log(n_samples), (math.log(n_samples) - 2) / 10)))\n",
    "    )\n",
    ").astype(int)\n",
    "\n",
    "# specify parameters and distributions to sample from\n",
    "rerf_param_dict = {\n",
    "    \"n_estimators\": np.arange(50, 550, 50),\n",
    "    \"max_depth\": max_depth_range_rerf,\n",
    "    \"min_samples_split\": min_sample_splits_range_rerf,\n",
    "    \"feature_combinations\": [1, 2, 3, 4, 5],\n",
    "    \"max_features\": [\"sqrt\", \"log2\", None, n_features ** 2],\n",
    "}\n",
    "\n",
    "# build another classifier\n",
    "rf = RandomForestClassifier()\n",
    "\n",
    "# specify max_depth and min_sample_splits ranges\n",
    "max_depth_array_rf = (np.unique(np.round((np.linspace(2, n_samples, 10))))).astype(int)\n",
    "max_depth_range_rf = np.append(max_depth_array_rf, None)\n",
    "\n",
    "min_sample_splits_range_rf = (\n",
    "    np.unique(\n",
    "        np.round((np.arange(2, math.log(n_samples), (math.log(n_samples) - 2) / 10)))\n",
    "    )\n",
    ").astype(int)\n",
    "\n",
    "# specify parameters and distributions to sample from\n",
    "rf_param_dict = {\n",
    "    \"n_estimators\": np.arange(50, 550, 50),\n",
    "    \"max_depth\": max_depth_range_rf,\n",
    "    \"min_samples_split\": min_sample_splits_range_rf,\n",
    "    \"max_features\": [\"sqrt\", \"log2\", None],\n",
    "}"
   ]
  },
  {
   "cell_type": "markdown",
   "metadata": {},
   "source": [
    "# Obtaining best parameters dictionary and refitting"
   ]
  },
  {
   "cell_type": "code",
   "execution_count": 6,
   "metadata": {},
   "outputs": [
    {
     "name": "stdout",
     "output_type": "stream",
     "text": [
      "{rerfClassifier(feature_combinations=1.5, image_height=None, image_width=None,\n",
      "               max_depth=None, max_features='auto', min_samples_split=1,\n",
      "               n_estimators=500, n_jobs=None, oob_score=False,\n",
      "               patch_height_max=None, patch_height_min=1, patch_width_max=None,\n",
      "               patch_width_min=1, projection_matrix='RerF', random_state=None): {'n_estimators': 300, 'min_samples_split': 2, 'max_features': 36, 'max_depth': 386, 'feature_combinations': 2}, RandomForestClassifier(bootstrap=True, class_weight=None, criterion='gini',\n",
      "                       max_depth=None, max_features='auto', max_leaf_nodes=None,\n",
      "                       min_impurity_decrease=0.0, min_impurity_split=None,\n",
      "                       min_samples_leaf=1, min_samples_split=2,\n",
      "                       min_weight_fraction_leaf=0.0, n_estimators='warn',\n",
      "                       n_jobs=None, oob_score=False, random_state=None,\n",
      "                       verbose=0, warm_start=False): {'n_estimators': 350, 'min_samples_split': 3, 'max_features': None, 'max_depth': 1344}}\n"
     ]
    }
   ],
   "source": [
    "best_params = hyperparameter_optimization_random(\n",
    "    X, y, (rerf, rerf_param_dict), (rf, rf_param_dict)\n",
    ")\n",
    "print(best_params)\n",
    "\n",
    "# extract values from dict - seperate each classifier's param dict\n",
    "keys, values = zip(*best_params.items())\n",
    "\n",
    "# train test split\n",
    "X_train, X_test, y_train, y_test = train_test_split(\n",
    "    X, y, test_size=0.33, random_state=42\n",
    ")\n",
    "\n",
    "# get accuracies of optimized and default models\n",
    "rerf_opti = rerfClassifier(**values[0])\n",
    "rerf_opti.fit(X_train, y_train)\n",
    "rerf_pred_opti = rerf_opti.predict(X_test)\n",
    "rerf_acc_opti = metrics.accuracy_score(y_test, rerf_pred_opti)\n",
    "\n",
    "rerf_default = rerfClassifier()\n",
    "rerf_default.fit(X_train, y_train)\n",
    "rerf_pred_default = rerf_default.predict(X_test)\n",
    "rerf_acc_default = metrics.accuracy_score(y_test, rerf_pred_default)\n",
    "\n",
    "rf_opti = RandomForestClassifier(**values[1])\n",
    "rf_opti.fit(X_train, y_train)\n",
    "rf_pred_opti = rf_opti.predict(X_test)\n",
    "rf_acc_opti = metrics.accuracy_score(y_test, rf_pred_opti)\n",
    "\n",
    "rf_default = RandomForestClassifier()\n",
    "rf_default.fit(X_train, y_train)\n",
    "rf_pred_default = rf_default.predict(X_test)\n",
    "rf_acc_default = metrics.accuracy_score(y_test, rf_pred_default)"
   ]
  },
  {
   "cell_type": "markdown",
   "metadata": {},
   "source": [
    "# Plotting the result"
   ]
  },
  {
   "cell_type": "code",
   "execution_count": 7,
   "metadata": {},
   "outputs": [
    {
     "data": {
      "image/png": "[encoded data removed]",
      "text/plain": [
       "<Figure size 432x288 with 1 Axes>"
      ]
     },
     "metadata": {
      "needs_background": "light"
     },
     "output_type": "display_data"
    }
   ],
   "source": [
    "labels = [\"SPORF\", \"RF\"]\n",
    "rerf_acc = [rerf_acc_opti, rerf_acc_default]\n",
    "rf_acc = [rf_acc_opti, rf_acc_default]\n",
    "\n",
    "x = np.arange(len(labels))\n",
    "width = 0.35\n",
    "\n",
    "fig, ax = plt.subplots()\n",
    "rects1 = ax.bar(x - width / 2, rerf_acc, width, label=\"Optimized\")\n",
    "rects2 = ax.bar(x + width / 2, rf_acc, width, label=\"Default\")\n",
    "\n",
    "# Add some text for labels, title and custom x-axis tick labels, etc.\n",
    "ax.set_ylabel(\"Accuracy\")\n",
    "ax.set_title(\"Accuracy of Optimized/Default SPORF and RF Models on car Dataset\")\n",
    "ax.set_xticks(x)\n",
    "ax.set_xticklabels(labels)\n",
    "ax.legend()\n",
    "\n",
    "\n",
    "def autolabel(rects):\n",
    "    \"\"\"Attach a text label above each bar in *rects*, displaying its height.\"\"\"\n",
    "    for rect in rects:\n",
    "        height = float(\"%.3f\" % (rect.get_height()))\n",
    "        ax.annotate(\n",
    "            \"{}\".format(height),\n",
    "            xy=(rect.get_x() + rect.get_width() / 2, height),\n",
    "            xytext=(0, 3),  # 3 points vertical offset\n",
    "            textcoords=\"offset points\",\n",
    "            ha=\"center\",\n",
    "            va=\"bottom\",\n",
    "        )\n",
    "\n",
    "\n",
    "autolabel(rects1)\n",
    "autolabel(rects2)\n",
    "fig.tight_layout()\n",
    "plt.ylim((0.9, 1))\n",
    "\n",
    "plt.show()"
   ]
  }
 ],
 "metadata": {
  "kernelspec": {
   "display_name": "Python 3",
   "language": "python",
   "name": "python3"
  },
  "language_info": {
   "codemirror_mode": {
    "name": "ipython",
    "version": 3
   },
   "file_extension": ".py",
   "mimetype": "text/x-python",
   "name": "python",
   "nbconvert_exporter": "python",
   "pygments_lexer": "ipython3",
   "version": "3.7.3"
  }
 },
 "nbformat": 4,
 "nbformat_minor": 2
}
